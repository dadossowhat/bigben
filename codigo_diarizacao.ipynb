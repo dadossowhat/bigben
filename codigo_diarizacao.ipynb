{
  "nbformat": 4,
  "nbformat_minor": 0,
  "metadata": {
    "colab": {
      "provenance": [],
      "authorship_tag": "ABX9TyNI8jBG3wwlfY+R97EVbi1N",
      "include_colab_link": true
    },
    "kernelspec": {
      "name": "python3",
      "display_name": "Python 3"
    },
    "language_info": {
      "name": "python"
    }
  },
  "cells": [
    {
      "cell_type": "markdown",
      "metadata": {
        "id": "view-in-github",
        "colab_type": "text"
      },
      "source": [
        "<a href=\"https://colab.research.google.com/github/dadossowhat/bigben/blob/main/codigo_diarizacao.ipynb\" target=\"_parent\"><img src=\"https://colab.research.google.com/assets/colab-badge.svg\" alt=\"Open In Colab\"/></a>"
      ]
    },
    {
      "cell_type": "code",
      "execution_count": null,
      "metadata": {
        "colab": {
          "base_uri": "https://localhost:8080/"
        },
        "id": "u67MoAtueUCJ",
        "outputId": "cad94299-70f1-4496-c7a2-c1c796dc861a"
      },
      "outputs": [
        {
          "output_type": "stream",
          "name": "stdout",
          "text": [
            "Requirement already satisfied: google-cloud-bigquery in /usr/local/lib/python3.10/dist-packages (3.25.0)\n",
            "Requirement already satisfied: google-api-core!=2.0.*,!=2.1.*,!=2.10.*,!=2.2.*,!=2.3.*,!=2.4.*,!=2.5.*,!=2.6.*,!=2.7.*,!=2.8.*,!=2.9.*,<3.0.0dev,>=1.34.1 in /usr/local/lib/python3.10/dist-packages (from google-api-core[grpc]!=2.0.*,!=2.1.*,!=2.10.*,!=2.2.*,!=2.3.*,!=2.4.*,!=2.5.*,!=2.6.*,!=2.7.*,!=2.8.*,!=2.9.*,<3.0.0dev,>=1.34.1->google-cloud-bigquery) (2.19.1)\n",
            "Requirement already satisfied: google-auth<3.0.0dev,>=2.14.1 in /usr/local/lib/python3.10/dist-packages (from google-cloud-bigquery) (2.27.0)\n",
            "Requirement already satisfied: google-cloud-core<3.0.0dev,>=1.6.0 in /usr/local/lib/python3.10/dist-packages (from google-cloud-bigquery) (2.4.1)\n",
            "Requirement already satisfied: google-resumable-media<3.0dev,>=0.6.0 in /usr/local/lib/python3.10/dist-packages (from google-cloud-bigquery) (2.7.2)\n",
            "Requirement already satisfied: packaging>=20.0.0 in /usr/local/lib/python3.10/dist-packages (from google-cloud-bigquery) (24.1)\n",
            "Requirement already satisfied: python-dateutil<3.0dev,>=2.7.2 in /usr/local/lib/python3.10/dist-packages (from google-cloud-bigquery) (2.8.2)\n",
            "Requirement already satisfied: requests<3.0.0dev,>=2.21.0 in /usr/local/lib/python3.10/dist-packages (from google-cloud-bigquery) (2.32.3)\n",
            "Requirement already satisfied: googleapis-common-protos<2.0.dev0,>=1.56.2 in /usr/local/lib/python3.10/dist-packages (from google-api-core!=2.0.*,!=2.1.*,!=2.10.*,!=2.2.*,!=2.3.*,!=2.4.*,!=2.5.*,!=2.6.*,!=2.7.*,!=2.8.*,!=2.9.*,<3.0.0dev,>=1.34.1->google-api-core[grpc]!=2.0.*,!=2.1.*,!=2.10.*,!=2.2.*,!=2.3.*,!=2.4.*,!=2.5.*,!=2.6.*,!=2.7.*,!=2.8.*,!=2.9.*,<3.0.0dev,>=1.34.1->google-cloud-bigquery) (1.64.0)\n",
            "Requirement already satisfied: protobuf!=3.20.0,!=3.20.1,!=4.21.0,!=4.21.1,!=4.21.2,!=4.21.3,!=4.21.4,!=4.21.5,<6.0.0.dev0,>=3.19.5 in /usr/local/lib/python3.10/dist-packages (from google-api-core!=2.0.*,!=2.1.*,!=2.10.*,!=2.2.*,!=2.3.*,!=2.4.*,!=2.5.*,!=2.6.*,!=2.7.*,!=2.8.*,!=2.9.*,<3.0.0dev,>=1.34.1->google-api-core[grpc]!=2.0.*,!=2.1.*,!=2.10.*,!=2.2.*,!=2.3.*,!=2.4.*,!=2.5.*,!=2.6.*,!=2.7.*,!=2.8.*,!=2.9.*,<3.0.0dev,>=1.34.1->google-cloud-bigquery) (3.20.3)\n",
            "Requirement already satisfied: proto-plus<2.0.0dev,>=1.22.3 in /usr/local/lib/python3.10/dist-packages (from google-api-core!=2.0.*,!=2.1.*,!=2.10.*,!=2.2.*,!=2.3.*,!=2.4.*,!=2.5.*,!=2.6.*,!=2.7.*,!=2.8.*,!=2.9.*,<3.0.0dev,>=1.34.1->google-api-core[grpc]!=2.0.*,!=2.1.*,!=2.10.*,!=2.2.*,!=2.3.*,!=2.4.*,!=2.5.*,!=2.6.*,!=2.7.*,!=2.8.*,!=2.9.*,<3.0.0dev,>=1.34.1->google-cloud-bigquery) (1.24.0)\n",
            "Requirement already satisfied: grpcio<2.0dev,>=1.33.2 in /usr/local/lib/python3.10/dist-packages (from google-api-core[grpc]!=2.0.*,!=2.1.*,!=2.10.*,!=2.2.*,!=2.3.*,!=2.4.*,!=2.5.*,!=2.6.*,!=2.7.*,!=2.8.*,!=2.9.*,<3.0.0dev,>=1.34.1->google-cloud-bigquery) (1.64.1)\n",
            "Requirement already satisfied: grpcio-status<2.0.dev0,>=1.33.2 in /usr/local/lib/python3.10/dist-packages (from google-api-core[grpc]!=2.0.*,!=2.1.*,!=2.10.*,!=2.2.*,!=2.3.*,!=2.4.*,!=2.5.*,!=2.6.*,!=2.7.*,!=2.8.*,!=2.9.*,<3.0.0dev,>=1.34.1->google-cloud-bigquery) (1.48.2)\n",
            "Requirement already satisfied: cachetools<6.0,>=2.0.0 in /usr/local/lib/python3.10/dist-packages (from google-auth<3.0.0dev,>=2.14.1->google-cloud-bigquery) (5.5.0)\n",
            "Requirement already satisfied: pyasn1-modules>=0.2.1 in /usr/local/lib/python3.10/dist-packages (from google-auth<3.0.0dev,>=2.14.1->google-cloud-bigquery) (0.4.0)\n",
            "Requirement already satisfied: rsa<5,>=3.1.4 in /usr/local/lib/python3.10/dist-packages (from google-auth<3.0.0dev,>=2.14.1->google-cloud-bigquery) (4.9)\n",
            "Requirement already satisfied: google-crc32c<2.0dev,>=1.0 in /usr/local/lib/python3.10/dist-packages (from google-resumable-media<3.0dev,>=0.6.0->google-cloud-bigquery) (1.5.0)\n",
            "Requirement already satisfied: six>=1.5 in /usr/local/lib/python3.10/dist-packages (from python-dateutil<3.0dev,>=2.7.2->google-cloud-bigquery) (1.16.0)\n",
            "Requirement already satisfied: charset-normalizer<4,>=2 in /usr/local/lib/python3.10/dist-packages (from requests<3.0.0dev,>=2.21.0->google-cloud-bigquery) (3.3.2)\n",
            "Requirement already satisfied: idna<4,>=2.5 in /usr/local/lib/python3.10/dist-packages (from requests<3.0.0dev,>=2.21.0->google-cloud-bigquery) (3.8)\n",
            "Requirement already satisfied: urllib3<3,>=1.21.1 in /usr/local/lib/python3.10/dist-packages (from requests<3.0.0dev,>=2.21.0->google-cloud-bigquery) (2.0.7)\n",
            "Requirement already satisfied: certifi>=2017.4.17 in /usr/local/lib/python3.10/dist-packages (from requests<3.0.0dev,>=2.21.0->google-cloud-bigquery) (2024.7.4)\n",
            "Requirement already satisfied: pyasn1<0.7.0,>=0.4.6 in /usr/local/lib/python3.10/dist-packages (from pyasn1-modules>=0.2.1->google-auth<3.0.0dev,>=2.14.1->google-cloud-bigquery) (0.6.0)\n"
          ]
        }
      ],
      "source": [
        "!pip install google-cloud-bigquery"
      ]
    },
    {
      "cell_type": "code",
      "source": [
        "from google.colab import auth\n",
        "auth.authenticate_user()"
      ],
      "metadata": {
        "id": "VaNTZ6WjezyH"
      },
      "execution_count": null,
      "outputs": []
    },
    {
      "cell_type": "code",
      "source": [
        "from google.cloud import bigquery\n",
        "\n",
        "def insert_rows(request):\n",
        "    try:\n",
        "        # O nome do projeto\n",
        "        project_id = 'clientes-sowhat'\n",
        "\n",
        "        # Configurar o cliente BigQuery com o projeto explicitamente definido\n",
        "        client = bigquery.Client(project=project_id)\n",
        "        print(\"Cliente BigQuery configurado com sucesso.\")\n",
        "\n",
        "        # Nome do dataset e das tabelas\n",
        "        dataset_id = 'bigben'\n",
        "        table_id = 'midia_all_data'\n",
        "        diarizada_table_id = 'plano_midia_raw_data'\n",
        "\n",
        "        # Nome completo das tabelas\n",
        "        table_ref = f\"{project_id}.{dataset_id}.{table_id}\"\n",
        "        diarizada_table_ref = f\"{project_id}.{dataset_id}.{diarizada_table_id}\"\n",
        "\n",
        "        # Consulta para inserir dados da tabela diarizada nas colunas que terminam com _plan\n",
        "        # o insert diz que estamos inserindo dados na tabela midia_all_data e quais são esses dados\n",
        "        # o select seleciona os dados da plano_midia_raw_data\n",
        "        insert_query = f\"\"\"\n",
        "        INSERT INTO `{table_ref}` (\n",
        "            post_date,\n",
        "            invest_plan,\n",
        "            mote_campanha,\n",
        "            subcategoria_campanha,\n",
        "            objetivo,\n",
        "            etapa,\n",
        "            kpi,\n",
        "            formato,\n",
        "            plataforma,\n",
        "            impressions_plan,\n",
        "            views_plan,\n",
        "            clicks_plan,\n",
        "            sessions_plan\n",
        "\n",
        "        )\n",
        "        SELECT\n",
        "            DATE(post_date),\n",
        "            invest_plan,\n",
        "            UPPER(mote_campanha),\n",
        "            UPPER(subcategoria_campanha),\n",
        "            UPPER(objetivo),\n",
        "            UPPER(etapa),\n",
        "            UPPER(kpi),\n",
        "            UPPER(formato),\n",
        "            UPPER(plataforma),\n",
        "            impressions_plan,\n",
        "            views_plan,\n",
        "            clicks_plan,\n",
        "            sessions_plan\n",
        "        FROM `{diarizada_table_ref}`\n",
        "\n",
        "        UNION ALL\n",
        "\n",
        "        SELECT\n",
        "            post_date,\n",
        "            invest_plan,\n",
        "            mote_campanha,\n",
        "            subcategoria_campanha,\n",
        "            objetivo,\n",
        "            etapa,\n",
        "            kpi,\n",
        "            formato,\n",
        "            plataforma,\n",
        "            NULL AS impressions_plan,\n",
        "            NULL AS views_plan,\n",
        "            NULL AS clicks_plan,\n",
        "            NULL AS sessions_plan\n",
        "        FROM `{table_ref}`\n",
        "        \"\"\"\n",
        "        print(f\"Consulta de inserção: {insert_query}\")\n",
        "\n",
        "        # Executar a consulta de inserção\n",
        "        insert_job = client.query(insert_query)\n",
        "        insert_job.result()  # Aguarda a execução da consulta\n",
        "        print(\"Linhas inseridas com sucesso.\")\n",
        "\n",
        "        # Retorna uma mensagem de sucesso após a execução das consultas\n",
        "        return \"Linhas inseridas com sucesso!\", 200\n",
        "\n",
        "    except Exception as e:\n",
        "        print(f\"Ocorreu um erro: {e}\")\n",
        "        return f\"Ocorreu um erro: {e}\", 500\n",
        "\n",
        "# Execute a função\n",
        "insert_rows(None)\n"
      ],
      "metadata": {
        "colab": {
          "base_uri": "https://localhost:8080/"
        },
        "id": "CyOFWNjs23wz",
        "outputId": "26a6e668-7ef7-42cb-8d75-db3b1233fa5f"
      },
      "execution_count": null,
      "outputs": [
        {
          "output_type": "stream",
          "name": "stdout",
          "text": [
            "Cliente BigQuery configurado com sucesso.\n",
            "Consulta de inserção: \n",
            "        INSERT INTO `clientes-sowhat.bigben.midia_all_data` (\n",
            "            post_date,\n",
            "            invest_plan,\n",
            "            mote_campanha,\n",
            "            subcategoria_campanha,\n",
            "            objetivo,\n",
            "            etapa,\n",
            "            kpi,\n",
            "            formato,\n",
            "            plataforma,\n",
            "            impressions_plan,\n",
            "            views_plan,\n",
            "            clicks_plan,\n",
            "            sessions_plan\n",
            "\n",
            "        )\n",
            "        SELECT\n",
            "            DATE(post_date),\n",
            "            invest_plan,\n",
            "            UPPER(mote_campanha),\n",
            "            UPPER(subcategoria_campanha),\n",
            "            UPPER(objetivo),\n",
            "            UPPER(etapa),\n",
            "            UPPER(kpi),\n",
            "            UPPER(formato),\n",
            "            UPPER(plataforma),\n",
            "            impressions_plan,\n",
            "            views_plan,\n",
            "            clicks_plan,\n",
            "            sessions_plan\n",
            "        FROM `clientes-sowhat.bigben.plano_midia_raw_data`\n",
            "\n",
            "        UNION ALL\n",
            "\n",
            "        SELECT\n",
            "            post_date,\n",
            "            invest_plan,\n",
            "            mote_campanha,\n",
            "            subcategoria_campanha,\n",
            "            objetivo,\n",
            "            etapa,\n",
            "            kpi,\n",
            "            formato,\n",
            "            plataforma,\n",
            "            NULL AS impressions_plan,\n",
            "            NULL AS views_plan,\n",
            "            NULL AS clicks_plan,\n",
            "            NULL AS sessions_plan\n",
            "        FROM `clientes-sowhat.bigben.midia_all_data`\n",
            "        \n",
            "Linhas inseridas com sucesso.\n"
          ]
        },
        {
          "output_type": "execute_result",
          "data": {
            "text/plain": [
              "('Linhas inseridas com sucesso!', 200)"
            ]
          },
          "metadata": {},
          "execution_count": 3
        }
      ]
    }
  ]
}