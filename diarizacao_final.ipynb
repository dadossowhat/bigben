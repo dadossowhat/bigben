{
  "nbformat": 4,
  "nbformat_minor": 0,
  "metadata": {
    "colab": {
      "provenance": [],
      "authorship_tag": "ABX9TyP+EYNp1TQt1o7dYhaUDAlk",
      "include_colab_link": true
    },
    "kernelspec": {
      "name": "python3",
      "display_name": "Python 3"
    },
    "language_info": {
      "name": "python"
    }
  },
  "cells": [
    {
      "cell_type": "markdown",
      "metadata": {
        "id": "view-in-github",
        "colab_type": "text"
      },
      "source": [
        "<a href=\"https://colab.research.google.com/github/dadossowhat/bigben/blob/main/diarizacao_final.ipynb\" target=\"_parent\"><img src=\"https://colab.research.google.com/assets/colab-badge.svg\" alt=\"Open In Colab\"/></a>"
      ]
    },
    {
      "cell_type": "code",
      "source": [
        "fonte = \"db_bigben_plano-midia\"\n",
        "saida = \"db_bigben_diarizacao\"\n",
        "aba_salva = 0"
      ],
      "metadata": {
        "id": "8B36dRL2JNan"
      },
      "execution_count": null,
      "outputs": []
    },
    {
      "cell_type": "code",
      "source": [
        "import pandas as pd\n",
        "import gspread\n",
        "from google.colab import auth\n",
        "from google.auth import default\n",
        "import numpy as np\n",
        "\n",
        "# Autenticar com o Google\n",
        "auth.authenticate_user()\n",
        "creds, _ = default()\n",
        "\n",
        "# Autorizar acesso ao Google Sheets\n",
        "gc = gspread.authorize(creds)\n",
        "\n",
        "# Carregar os dados da planilha\n",
        "df_plano = pd.DataFrame(gc.open(fonte).get_worksheet(0).get_all_records())\n",
        "\n",
        "# Converter a coluna \"MES/ANO\" para datetime\n",
        "df_plano[\"MES/ANO\"] = pd.to_datetime(df_plano[\"MES/ANO\"], format='%m/%Y')"
      ],
      "metadata": {
        "collapsed": true,
        "id": "6a1qv2-x7FEd"
      },
      "execution_count": null,
      "outputs": []
    },
    {
      "cell_type": "code",
      "source": [
        "# Converter as colunas tipo numérico (adaptar para o nome da coluna desejada)\n",
        "df_plano[\"Investimento\"] = df_plano[\"Investimento\"].astype(float)\n",
        "df_plano[\"Impressoes\"] = df_plano[\"Impressoes\"].astype(int)\n",
        "df_plano[\"Views\"] = df_plano[\"Views\"].astype(int)\n",
        "df_plano[\"Cliques\"] = df_plano[\"Cliques\"].astype(int)\n",
        "df_plano[\"Sessoes\"] = df_plano[\"Sessoes\"].astype(int)"
      ],
      "metadata": {
        "id": "-m5CX6LF-Cgy"
      },
      "execution_count": null,
      "outputs": []
    },
    {
      "cell_type": "code",
      "source": [
        "# Obter todas as combinações de \"MOTE DA CAMPANHA\", \"OBJETIVO\", \"ETAPA\" e \"VEÍCULO\"\n",
        "combinacoes = df_plano[['MOTE DA CAMPANHA', 'SUBCATEGORIA DE CAMPANHA', 'OBJETIVO', 'ETAPA', 'KPI', 'FORMATO', 'VEÍCULO']].drop_duplicates()"
      ],
      "metadata": {
        "id": "oR_TNfUy9213"
      },
      "execution_count": null,
      "outputs": []
    },
    {
      "cell_type": "code",
      "source": [
        "# Criar DataFrame para expandir os dados\n",
        "new_data = []"
      ],
      "metadata": {
        "id": "1Jlkf6XL7Ju7"
      },
      "execution_count": null,
      "outputs": []
    },
    {
      "cell_type": "code",
      "source": [
        "# Iterar sobre cada combinação\n",
        "for _, combinacao in combinacoes.iterrows():\n",
        "    mote_campanha = combinacao['MOTE DA CAMPANHA']\n",
        "    subcategoria_campanha = combinacao['SUBCATEGORIA DE CAMPANHA']\n",
        "    objetivo = combinacao['OBJETIVO']\n",
        "    etapa = combinacao['ETAPA']\n",
        "    kpi = combinacao['KPI']\n",
        "    formato = combinacao['FORMATO']\n",
        "    veiculo = combinacao['VEÍCULO']\n",
        "\n",
        "    # Filtrar o DataFrame original pela combinação atual\n",
        "    df_filtrado = df_plano[\n",
        "        (df_plano['MOTE DA CAMPANHA'] == mote_campanha) &\n",
        "        (df_plano['SUBCATEGORIA DE CAMPANHA'] == subcategoria_campanha) &\n",
        "        (df_plano['OBJETIVO'] == objetivo) &\n",
        "        (df_plano['ETAPA'] == etapa) &\n",
        "        (df_plano['KPI'] == kpi) &\n",
        "        (df_plano['FORMATO'] == formato) &\n",
        "        (df_plano['VEÍCULO'] == veiculo)\n",
        "    ]\n",
        "\n",
        "    # Iterar sobre cada linha do DataFrame filtrado\n",
        "    for index, row in df_filtrado.iterrows():\n",
        "        # Obter o número de dias no mês atual\n",
        "        dias_no_mes = row['MES/ANO'].days_in_month\n",
        "\n",
        "        # Calcular o investimento diário\n",
        "        investimento_diario = row['Investimento'] / dias_no_mes\n",
        "        impressoes_diario = row['Impressoes'] / dias_no_mes\n",
        "        views_bruto_diario = row['Views'] / dias_no_mes\n",
        "        cliques_diario = row['Cliques'] / dias_no_mes\n",
        "        sessoes_diario = row['Sessoes'] / dias_no_mes\n",
        "\n",
        "        # Iterar sobre cada dia do mês\n",
        "        for day in range(1, dias_no_mes + 1):  # Adicionando +1 para incluir o último dia\n",
        "            new_row = {\n",
        "                'DATA': pd.Timestamp(row['MES/ANO'].year, row['MES/ANO'].month, day),\n",
        "                'MES/ANO': row['MES/ANO'].strftime('%m/%Y'),  # Mantendo o formato MES/ANO\n",
        "                'MOTE DA CAMPANHA': mote_campanha,\n",
        "                'SUBCATEGORIA DE CAMPANHA': subcategoria_campanha,\n",
        "                'OBJETIVO': objetivo,\n",
        "                'ETAPA': etapa,\n",
        "                'KPI': kpi,\n",
        "                'FORMATO': formato,\n",
        "                'VEÍCULO': veiculo,\n",
        "                'Investimento': investimento_diario,\n",
        "                'Impressoes': impressoes_diario,\n",
        "                'Views': views_bruto_diario,\n",
        "                'Cliques': cliques_diario,\n",
        "                'Sessoes': sessoes_diario,\n",
        "            }\n",
        "            # Adicionar as métricas diárias calculadas\n",
        "            new_data.append(new_row)"
      ],
      "metadata": {
        "id": "5QbAolvaCV7b"
      },
      "execution_count": null,
      "outputs": []
    },
    {
      "cell_type": "code",
      "source": [
        "new_df = pd.DataFrame(new_data)\n",
        "# Substituir NaN e infinitos por 0\n",
        "new_df.replace([np.nan, np.inf, -np.inf], 0, inplace=True)\n",
        "\n",
        "# Converter a coluna de Timestamp para strings\n",
        "new_df['DATA'] = new_df['DATA'].dt.strftime('%Y-%m-%d')\n"
      ],
      "metadata": {
        "id": "sX__bFrVHTiM"
      },
      "execution_count": null,
      "outputs": []
    },
    {
      "cell_type": "code",
      "source": [
        "sh = gc.open(saida)\n",
        "\n",
        "worksheet = sh.get_worksheet(0) #escolher qual aba quer salvar ali coloquei 0 que é primeira aba no caso\n",
        "worksheet.clear()\n",
        "\n",
        "worksheet.update([new_df.columns.values.tolist()]+new_df.values.tolist())"
      ],
      "metadata": {
        "colab": {
          "base_uri": "https://localhost:8080/"
        },
        "id": "-zwGaO5sEGcX",
        "outputId": "c6d4870f-70d8-4640-9cc1-ffa005108007"
      },
      "execution_count": null,
      "outputs": [
        {
          "output_type": "execute_result",
          "data": {
            "text/plain": [
              "{'spreadsheetId': '1XwTX8QRTgie82tvBLHKybTLnQRft7EbM1kFnhsAyW1I',\n",
              " 'updatedRange': 'diarizacao!A1:N404',\n",
              " 'updatedRows': 404,\n",
              " 'updatedColumns': 14,\n",
              " 'updatedCells': 5656}"
            ]
          },
          "metadata": {},
          "execution_count": 13
        }
      ]
    }
  ]
}